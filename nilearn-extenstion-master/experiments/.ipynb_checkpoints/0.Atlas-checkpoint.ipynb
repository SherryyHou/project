{
 "cells": [
  {
   "cell_type": "code",
   "execution_count": 1,
   "metadata": {},
   "outputs": [],
   "source": [
    "%matplotlib inline"
   ]
  },
  {
   "cell_type": "markdown",
   "metadata": {},
   "source": [
    "\n",
    "Visualizing 4D probabilistic atlas maps\n",
    "=======================================\n",
    "\n",
    "This example shows how to visualize probabilistic atlases made of 4D images.\n",
    "There are 3 different display types:\n",
    "\n",
    "1. \"contours\", which means maps or ROIs are shown as contours delineated by     colored lines.\n",
    "\n",
    "2. \"filled_contours\", maps are shown as contours same as above but with     fillings inside the contours.\n",
    "\n",
    "3. \"continuous\", maps are shown as just color overlays.\n",
    "\n",
    "A colorbar can optionally be added.\n",
    "\n",
    "The :func:`nilearn.plotting.plot_prob_atlas` function displays each map\n",
    "with each different color which are picked randomly from the colormap\n",
    "which is already defined.\n",
    "\n",
    "See `plotting` for more information to know how to tune the parameters.\n",
    "\n"
   ]
  },
  {
   "cell_type": "code",
   "execution_count": null,
   "metadata": {},
   "outputs": [
    {
     "name": "stdout",
     "output_type": "stream",
     "text": [
      "\n",
      "Dataset created in /home/uga_qinglin/nilearn_data/fsl\n",
      "\n",
      "Downloading data from http://www.nitrc.org/frs/download.php/9902/HarvardOxford.tgz ...\n"
     ]
    },
    {
     "name": "stderr",
     "output_type": "stream",
     "text": [
      "Downloaded 25716861 of 25716861 bytes (100.0%,    0.0s remaining) ...done. (9 seconds, 0 min)\n",
      "Extracting data from /home/uga_qinglin/nilearn_data/fsl/e84ad0263d578b399912ab057c50aa50/HarvardOxford.tgz..... done.\n",
      "/usr/local/lib/python3.5/dist-packages/numpy/lib/npyio.py:2278: VisibleDeprecationWarning: Reading unicode strings without specifying the encoding argument is deprecated. Set the encoding, use None for the system default.\n",
      "  output = genfromtxt(fname, **kwargs)\n"
     ]
    },
    {
     "name": "stdout",
     "output_type": "stream",
     "text": [
      "\n",
      "Dataset created in /home/uga_qinglin/nilearn_data/smith_2009\n",
      "\n",
      "Downloading data from http://www.fmrib.ox.ac.uk/datasets/brainmap+rsns/rsn20.nii.gz ...\n"
     ]
    },
    {
     "name": "stderr",
     "output_type": "stream",
     "text": [
      "Downloaded 15129514 of 15129514 bytes (100.0%,    0.0s remaining) ...done. (8 seconds, 0 min)\n"
     ]
    },
    {
     "name": "stdout",
     "output_type": "stream",
     "text": [
      "Downloading data from http://www.fmrib.ox.ac.uk/datasets/brainmap+rsns/PNAS_Smith09_rsn10.nii.gz ...\n"
     ]
    },
    {
     "name": "stderr",
     "output_type": "stream",
     "text": [
      "Downloaded 7565016 of 7565016 bytes (100.0%,    0.0s remaining) ...done. (4 seconds, 0 min)\n"
     ]
    },
    {
     "name": "stdout",
     "output_type": "stream",
     "text": [
      "Downloading data from http://www.fmrib.ox.ac.uk/datasets/brainmap+rsns/rsn70.nii.gz ...\n"
     ]
    },
    {
     "name": "stderr",
     "output_type": "stream",
     "text": [
      "Downloaded 53028809 of 53028809 bytes (100.0%,    0.0s remaining) ...done. (28 seconds, 0 min)\n"
     ]
    },
    {
     "name": "stdout",
     "output_type": "stream",
     "text": [
      "Downloading data from http://www.fmrib.ox.ac.uk/datasets/brainmap+rsns/bm20.nii.gz ...\n"
     ]
    },
    {
     "name": "stderr",
     "output_type": "stream",
     "text": [
      "Downloaded 19114114 of 19114114 bytes (100.0%,    0.0s remaining) ...done. (10 seconds, 0 min)\n"
     ]
    },
    {
     "name": "stdout",
     "output_type": "stream",
     "text": [
      "Downloading data from http://www.fmrib.ox.ac.uk/datasets/brainmap+rsns/PNAS_Smith09_bm10.nii.gz ...\n"
     ]
    },
    {
     "name": "stderr",
     "output_type": "stream",
     "text": [
      "Downloaded 9566632 of 9566632 bytes (100.0%,    0.0s remaining) ...done. (5 seconds, 0 min)\n"
     ]
    },
    {
     "name": "stdout",
     "output_type": "stream",
     "text": [
      "Downloading data from http://www.fmrib.ox.ac.uk/datasets/brainmap+rsns/bm70.nii.gz ...\n"
     ]
    },
    {
     "name": "stderr",
     "output_type": "stream",
     "text": [
      "Downloaded 67017538 of 67017538 bytes (100.0%,    0.0s remaining) ...done. (35 seconds, 0 min)\n"
     ]
    },
    {
     "name": "stdout",
     "output_type": "stream",
     "text": [
      "\n",
      "Dataset created in /home/uga_qinglin/nilearn_data/icbm152_2009\n",
      "\n",
      "Downloading data from https://osf.io/7pj92/download ...\n"
     ]
    },
    {
     "name": "stderr",
     "output_type": "stream",
     "text": [
      "Downloaded 63027871 of 63027871 bytes (100.0%,    0.0s remaining) ...done. (2 seconds, 0 min)\n",
      "Extracting data from /home/uga_qinglin/nilearn_data/icbm152_2009/774f5ced148e2fb443738680ac9b85a9/download..... done.\n"
     ]
    },
    {
     "name": "stdout",
     "output_type": "stream",
     "text": [
      "\n",
      "Dataset created in /home/uga_qinglin/nilearn_data/allen_rsn_2011\n",
      "\n",
      "Downloading data from http://mialab.mrn.org/data/hcp/ALL_HC_unthresholded_tmaps.nii ...\n"
     ]
    },
    {
     "name": "stderr",
     "output_type": "stream",
     "text": [
      "Downloaded 23039452 of 23039452 bytes (100.0%,    0.0s remaining) ...done. (2 seconds, 0 min)\n"
     ]
    },
    {
     "name": "stdout",
     "output_type": "stream",
     "text": [
      "Downloading data from http://mialab.mrn.org/data/hcp/RSN_HC_unthresholded_tmaps.nii ...\n"
     ]
    },
    {
     "name": "stderr",
     "output_type": "stream",
     "text": [
      "\r",
      "Downloaded 8601616 of 8601616 bytes (100.0%,    0.0s remaining) ...done. (1 seconds, 0 min)\n"
     ]
    },
    {
     "name": "stdout",
     "output_type": "stream",
     "text": [
      "Downloading data from http://mialab.mrn.org/data/hcp/rest_hcp_agg__component_ica_.nii ...\n"
     ]
    },
    {
     "name": "stderr",
     "output_type": "stream",
     "text": [
      "Downloaded 46078552 of 46078552 bytes (100.0%,    0.0s remaining) ...done. (5 seconds, 0 min)\n"
     ]
    },
    {
     "name": "stdout",
     "output_type": "stream",
     "text": [
      "\n",
      "Dataset created in /home/uga_qinglin/nilearn_data/pauli_2017\n",
      "\n",
      "Downloading data from https://osf.io/w8zq2/download ...\n"
     ]
    },
    {
     "name": "stderr",
     "output_type": "stream",
     "text": [
      "\r",
      "Downloaded 857744 of 857744 bytes (100.0%,    0.0s remaining) ...done. (1 seconds, 0 min)\n"
     ]
    },
    {
     "name": "stdout",
     "output_type": "stream",
     "text": [
      "Downloading data from https://osf.io/6qrcb/download ...\n"
     ]
    },
    {
     "name": "stderr",
     "output_type": "stream",
     "text": [
      "Downloaded 123 of 123 bytes (100.0%,    0.0s remaining) ...done. (1 seconds, 0 min)\n",
      "/usr/local/lib/python3.5/dist-packages/matplotlib/contour.py:1243: UserWarning: No contour levels were found within the data range.\n",
      "  warnings.warn(\"No contour levels were found\"\n"
     ]
    }
   ],
   "source": [
    "# Load 4D probabilistic atlases\n",
    "from nilearn import datasets\n",
    "\n",
    "# Harvard Oxford Atlasf\n",
    "harvard_oxford = datasets.fetch_atlas_harvard_oxford('cort-prob-2mm')\n",
    "harvard_oxford_sub = datasets.fetch_atlas_harvard_oxford('sub-prob-2mm')\n",
    "\n",
    "# Multi Subject Dictionary Learning Atlas\n",
    "msdl = datasets.fetch_atlas_msdl()\n",
    "\n",
    "# Smith ICA Atlas and Brain Maps 2009\n",
    "smith = datasets.fetch_atlas_smith_2009()\n",
    "\n",
    "# ICBM tissue probability\n",
    "icbm = datasets.fetch_icbm152_2009()\n",
    "\n",
    "# Allen RSN networks\n",
    "allen = datasets.fetch_atlas_allen_2011()\n",
    "\n",
    "# Pauli subcortical atlas\n",
    "subcortex = datasets.fetch_atlas_pauli_2017()\n",
    "\n",
    "# Visualization\n",
    "from nilearn import plotting\n",
    "\n",
    "atlas_types = {'Harvard_Oxford': harvard_oxford.maps,\n",
    "               'Harvard_Oxford sub': harvard_oxford_sub.maps,\n",
    "               'MSDL': msdl.maps, 'Smith 2009 10 RSNs': smith.rsn10,\n",
    "               'Smith2009 20 RSNs': smith.rsn20,\n",
    "               'Smith2009 70 RSNs': smith.rsn70,\n",
    "               'Smith2009 20 Brainmap': smith.bm20,\n",
    "               'Smith2009 70 Brainmap': smith.bm70,\n",
    "               'ICBM tissues': (icbm['wm'], icbm['gm'], icbm['csf']),\n",
    "               'Allen2011': allen.rsn28,\n",
    "               'Pauli2017 Subcortical Atlas': subcortex.maps,\n",
    "               }\n",
    "\n",
    "for name, atlas in sorted(atlas_types.items()):\n",
    "    plotting.plot_prob_atlas(atlas, title=name)\n",
    "\n",
    "# An optional colorbar can be set\n",
    "plotting.plot_prob_atlas(smith.bm10, title='Smith2009 10 Brainmap (with'\n",
    "                                           ' colorbar)',\n",
    "                         colorbar=True)\n",
    "print('ready')\n",
    "plotting.show()"
   ]
  },
  {
   "cell_type": "code",
   "execution_count": null,
   "metadata": {},
   "outputs": [],
   "source": [
    "for name, atlas in sorted(atlas_types.items()):"
   ]
  }
 ],
 "metadata": {
  "kernelspec": {
   "display_name": "Python 3",
   "language": "python",
   "name": "python3"
  },
  "language_info": {
   "codemirror_mode": {
    "name": "ipython",
    "version": 3
   },
   "file_extension": ".py",
   "mimetype": "text/x-python",
   "name": "python",
   "nbconvert_exporter": "python",
   "pygments_lexer": "ipython3",
   "version": "3.5.2"
  }
 },
 "nbformat": 4,
 "nbformat_minor": 1
}
